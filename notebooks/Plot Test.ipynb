{
 "cells": [
  {
   "cell_type": "markdown",
   "metadata": {},
   "source": [
    "Set up MindBase instance"
   ]
  },
  {
   "cell_type": "code",
   "execution_count": 44,
   "metadata": {},
   "outputs": [],
   "source": [
    ":dep mindbase = { path = \"../\" }\n",
    "\n",
    "use mindbase::prelude::*;\n",
    "\n",
    "let mb = MindBase::open_temp()?;"
   ]
  },
  {
   "cell_type": "markdown",
   "metadata": {},
   "source": [
    "Get our plotting lib set up"
   ]
  },
  {
   "cell_type": "code",
   "execution_count": 42,
   "metadata": {},
   "outputs": [],
   "source": [
    ":dep plotters = { git = \"https://github.com/38/plotters\", default_features = false, features = [\"evcxr\", \"line_series\"] }\n",
    "use plotters::prelude::*;\n",
    "\n",
    "fn plot(items: Vec<(i32,i32)>) -> plotters::evcxr::SVGWrapper {\n",
    "    evcxr_figure((640, 480), |root_area| {\n",
    "        let (x,y) = items.iter().fold((2i32,2i32), |acc,i| (acc.0.max(i.0), acc.1.max(i.1)));\n",
    "        let mut ctx = ChartBuilder::on(&root_area).build_ranged(0..x, 0..y).unwrap();\n",
    "\n",
    "        ctx.configure_mesh().draw().unwrap();\n",
    "        ctx.draw_series(LineSeries::new(items, &GREEN)).unwrap();\n",
    "        Ok(())\n",
    "    }).style(\"width: 60%\")\n",
    "}"
   ]
  },
  {
   "cell_type": "code",
   "execution_count": 43,
   "metadata": {},
   "outputs": [
    {
     "data": {
      "text/html": [
       "<div style=\"width: 60%\"><svg width=\"640\" height=\"480\" viewBox=\"0 0 640 480\" xmlns=\"http://www.w3.org/2000/svg\">\n",
       "<line opacity=\"0.1\" stroke=\"#000000\" stroke-width=\"1\" x1=\"0\" y1=\"479\" x2=\"0\" y2=\"-1\"/>\n",
       "<line opacity=\"0.1\" stroke=\"#000000\" stroke-width=\"1\" x1=\"213\" y1=\"479\" x2=\"213\" y2=\"-1\"/>\n",
       "<line opacity=\"0.1\" stroke=\"#000000\" stroke-width=\"1\" x1=\"426\" y1=\"479\" x2=\"426\" y2=\"-1\"/>\n",
       "<line opacity=\"0.1\" stroke=\"#000000\" stroke-width=\"1\" x1=\"640\" y1=\"479\" x2=\"640\" y2=\"-1\"/>\n",
       "<line opacity=\"0.1\" stroke=\"#000000\" stroke-width=\"1\" x1=\"0\" y1=\"479\" x2=\"640\" y2=\"479\"/>\n",
       "<line opacity=\"0.1\" stroke=\"#000000\" stroke-width=\"1\" x1=\"0\" y1=\"473\" x2=\"640\" y2=\"473\"/>\n",
       "<line opacity=\"0.1\" stroke=\"#000000\" stroke-width=\"1\" x1=\"0\" y1=\"468\" x2=\"640\" y2=\"468\"/>\n",
       "<line opacity=\"0.1\" stroke=\"#000000\" stroke-width=\"1\" x1=\"0\" y1=\"463\" x2=\"640\" y2=\"463\"/>\n",
       "<line opacity=\"0.1\" stroke=\"#000000\" stroke-width=\"1\" x1=\"0\" y1=\"457\" x2=\"640\" y2=\"457\"/>\n",
       "<line opacity=\"0.1\" stroke=\"#000000\" stroke-width=\"1\" x1=\"0\" y1=\"452\" x2=\"640\" y2=\"452\"/>\n",
       "<line opacity=\"0.1\" stroke=\"#000000\" stroke-width=\"1\" x1=\"0\" y1=\"447\" x2=\"640\" y2=\"447\"/>\n",
       "<line opacity=\"0.1\" stroke=\"#000000\" stroke-width=\"1\" x1=\"0\" y1=\"441\" x2=\"640\" y2=\"441\"/>\n",
       "<line opacity=\"0.1\" stroke=\"#000000\" stroke-width=\"1\" x1=\"0\" y1=\"436\" x2=\"640\" y2=\"436\"/>\n",
       "<line opacity=\"0.1\" stroke=\"#000000\" stroke-width=\"1\" x1=\"0\" y1=\"431\" x2=\"640\" y2=\"431\"/>\n",
       "<line opacity=\"0.1\" stroke=\"#000000\" stroke-width=\"1\" x1=\"0\" y1=\"425\" x2=\"640\" y2=\"425\"/>\n",
       "<line opacity=\"0.1\" stroke=\"#000000\" stroke-width=\"1\" x1=\"0\" y1=\"420\" x2=\"640\" y2=\"420\"/>\n",
       "<line opacity=\"0.1\" stroke=\"#000000\" stroke-width=\"1\" x1=\"0\" y1=\"415\" x2=\"640\" y2=\"415\"/>\n",
       "<line opacity=\"0.1\" stroke=\"#000000\" stroke-width=\"1\" x1=\"0\" y1=\"409\" x2=\"640\" y2=\"409\"/>\n",
       "<line opacity=\"0.1\" stroke=\"#000000\" stroke-width=\"1\" x1=\"0\" y1=\"404\" x2=\"640\" y2=\"404\"/>\n",
       "<line opacity=\"0.1\" stroke=\"#000000\" stroke-width=\"1\" x1=\"0\" y1=\"399\" x2=\"640\" y2=\"399\"/>\n",
       "<line opacity=\"0.1\" stroke=\"#000000\" stroke-width=\"1\" x1=\"0\" y1=\"393\" x2=\"640\" y2=\"393\"/>\n",
       "<line opacity=\"0.1\" stroke=\"#000000\" stroke-width=\"1\" x1=\"0\" y1=\"388\" x2=\"640\" y2=\"388\"/>\n",
       "<line opacity=\"0.1\" stroke=\"#000000\" stroke-width=\"1\" x1=\"0\" y1=\"383\" x2=\"640\" y2=\"383\"/>\n",
       "<line opacity=\"0.1\" stroke=\"#000000\" stroke-width=\"1\" x1=\"0\" y1=\"377\" x2=\"640\" y2=\"377\"/>\n",
       "<line opacity=\"0.1\" stroke=\"#000000\" stroke-width=\"1\" x1=\"0\" y1=\"372\" x2=\"640\" y2=\"372\"/>\n",
       "<line opacity=\"0.1\" stroke=\"#000000\" stroke-width=\"1\" x1=\"0\" y1=\"367\" x2=\"640\" y2=\"367\"/>\n",
       "<line opacity=\"0.1\" stroke=\"#000000\" stroke-width=\"1\" x1=\"0\" y1=\"361\" x2=\"640\" y2=\"361\"/>\n",
       "<line opacity=\"0.1\" stroke=\"#000000\" stroke-width=\"1\" x1=\"0\" y1=\"356\" x2=\"640\" y2=\"356\"/>\n",
       "<line opacity=\"0.1\" stroke=\"#000000\" stroke-width=\"1\" x1=\"0\" y1=\"351\" x2=\"640\" y2=\"351\"/>\n",
       "<line opacity=\"0.1\" stroke=\"#000000\" stroke-width=\"1\" x1=\"0\" y1=\"345\" x2=\"640\" y2=\"345\"/>\n",
       "<line opacity=\"0.1\" stroke=\"#000000\" stroke-width=\"1\" x1=\"0\" y1=\"340\" x2=\"640\" y2=\"340\"/>\n",
       "<line opacity=\"0.1\" stroke=\"#000000\" stroke-width=\"1\" x1=\"0\" y1=\"335\" x2=\"640\" y2=\"335\"/>\n",
       "<line opacity=\"0.1\" stroke=\"#000000\" stroke-width=\"1\" x1=\"0\" y1=\"329\" x2=\"640\" y2=\"329\"/>\n",
       "<line opacity=\"0.1\" stroke=\"#000000\" stroke-width=\"1\" x1=\"0\" y1=\"324\" x2=\"640\" y2=\"324\"/>\n",
       "<line opacity=\"0.1\" stroke=\"#000000\" stroke-width=\"1\" x1=\"0\" y1=\"319\" x2=\"640\" y2=\"319\"/>\n",
       "<line opacity=\"0.1\" stroke=\"#000000\" stroke-width=\"1\" x1=\"0\" y1=\"313\" x2=\"640\" y2=\"313\"/>\n",
       "<line opacity=\"0.1\" stroke=\"#000000\" stroke-width=\"1\" x1=\"0\" y1=\"308\" x2=\"640\" y2=\"308\"/>\n",
       "<line opacity=\"0.1\" stroke=\"#000000\" stroke-width=\"1\" x1=\"0\" y1=\"303\" x2=\"640\" y2=\"303\"/>\n",
       "<line opacity=\"0.1\" stroke=\"#000000\" stroke-width=\"1\" x1=\"0\" y1=\"297\" x2=\"640\" y2=\"297\"/>\n",
       "<line opacity=\"0.1\" stroke=\"#000000\" stroke-width=\"1\" x1=\"0\" y1=\"292\" x2=\"640\" y2=\"292\"/>\n",
       "<line opacity=\"0.1\" stroke=\"#000000\" stroke-width=\"1\" x1=\"0\" y1=\"287\" x2=\"640\" y2=\"287\"/>\n",
       "<line opacity=\"0.1\" stroke=\"#000000\" stroke-width=\"1\" x1=\"0\" y1=\"281\" x2=\"640\" y2=\"281\"/>\n",
       "<line opacity=\"0.1\" stroke=\"#000000\" stroke-width=\"1\" x1=\"0\" y1=\"276\" x2=\"640\" y2=\"276\"/>\n",
       "<line opacity=\"0.1\" stroke=\"#000000\" stroke-width=\"1\" x1=\"0\" y1=\"271\" x2=\"640\" y2=\"271\"/>\n",
       "<line opacity=\"0.1\" stroke=\"#000000\" stroke-width=\"1\" x1=\"0\" y1=\"265\" x2=\"640\" y2=\"265\"/>\n",
       "<line opacity=\"0.1\" stroke=\"#000000\" stroke-width=\"1\" x1=\"0\" y1=\"260\" x2=\"640\" y2=\"260\"/>\n",
       "<line opacity=\"0.1\" stroke=\"#000000\" stroke-width=\"1\" x1=\"0\" y1=\"255\" x2=\"640\" y2=\"255\"/>\n",
       "<line opacity=\"0.1\" stroke=\"#000000\" stroke-width=\"1\" x1=\"0\" y1=\"249\" x2=\"640\" y2=\"249\"/>\n",
       "<line opacity=\"0.1\" stroke=\"#000000\" stroke-width=\"1\" x1=\"0\" y1=\"244\" x2=\"640\" y2=\"244\"/>\n",
       "<line opacity=\"0.1\" stroke=\"#000000\" stroke-width=\"1\" x1=\"0\" y1=\"239\" x2=\"640\" y2=\"239\"/>\n",
       "<line opacity=\"0.1\" stroke=\"#000000\" stroke-width=\"1\" x1=\"0\" y1=\"233\" x2=\"640\" y2=\"233\"/>\n",
       "<line opacity=\"0.1\" stroke=\"#000000\" stroke-width=\"1\" x1=\"0\" y1=\"228\" x2=\"640\" y2=\"228\"/>\n",
       "<line opacity=\"0.1\" stroke=\"#000000\" stroke-width=\"1\" x1=\"0\" y1=\"223\" x2=\"640\" y2=\"223\"/>\n",
       "<line opacity=\"0.1\" stroke=\"#000000\" stroke-width=\"1\" x1=\"0\" y1=\"217\" x2=\"640\" y2=\"217\"/>\n",
       "<line opacity=\"0.1\" stroke=\"#000000\" stroke-width=\"1\" x1=\"0\" y1=\"212\" x2=\"640\" y2=\"212\"/>\n",
       "<line opacity=\"0.1\" stroke=\"#000000\" stroke-width=\"1\" x1=\"0\" y1=\"207\" x2=\"640\" y2=\"207\"/>\n",
       "<line opacity=\"0.1\" stroke=\"#000000\" stroke-width=\"1\" x1=\"0\" y1=\"201\" x2=\"640\" y2=\"201\"/>\n",
       "<line opacity=\"0.1\" stroke=\"#000000\" stroke-width=\"1\" x1=\"0\" y1=\"196\" x2=\"640\" y2=\"196\"/>\n",
       "<line opacity=\"0.1\" stroke=\"#000000\" stroke-width=\"1\" x1=\"0\" y1=\"191\" x2=\"640\" y2=\"191\"/>\n",
       "<line opacity=\"0.1\" stroke=\"#000000\" stroke-width=\"1\" x1=\"0\" y1=\"185\" x2=\"640\" y2=\"185\"/>\n",
       "<line opacity=\"0.1\" stroke=\"#000000\" stroke-width=\"1\" x1=\"0\" y1=\"180\" x2=\"640\" y2=\"180\"/>\n",
       "<line opacity=\"0.1\" stroke=\"#000000\" stroke-width=\"1\" x1=\"0\" y1=\"175\" x2=\"640\" y2=\"175\"/>\n",
       "<line opacity=\"0.1\" stroke=\"#000000\" stroke-width=\"1\" x1=\"0\" y1=\"169\" x2=\"640\" y2=\"169\"/>\n",
       "<line opacity=\"0.1\" stroke=\"#000000\" stroke-width=\"1\" x1=\"0\" y1=\"164\" x2=\"640\" y2=\"164\"/>\n",
       "<line opacity=\"0.1\" stroke=\"#000000\" stroke-width=\"1\" x1=\"0\" y1=\"159\" x2=\"640\" y2=\"159\"/>\n",
       "<line opacity=\"0.1\" stroke=\"#000000\" stroke-width=\"1\" x1=\"0\" y1=\"153\" x2=\"640\" y2=\"153\"/>\n",
       "<line opacity=\"0.1\" stroke=\"#000000\" stroke-width=\"1\" x1=\"0\" y1=\"148\" x2=\"640\" y2=\"148\"/>\n",
       "<line opacity=\"0.1\" stroke=\"#000000\" stroke-width=\"1\" x1=\"0\" y1=\"143\" x2=\"640\" y2=\"143\"/>\n",
       "<line opacity=\"0.1\" stroke=\"#000000\" stroke-width=\"1\" x1=\"0\" y1=\"137\" x2=\"640\" y2=\"137\"/>\n",
       "<line opacity=\"0.1\" stroke=\"#000000\" stroke-width=\"1\" x1=\"0\" y1=\"132\" x2=\"640\" y2=\"132\"/>\n",
       "<line opacity=\"0.1\" stroke=\"#000000\" stroke-width=\"1\" x1=\"0\" y1=\"127\" x2=\"640\" y2=\"127\"/>\n",
       "<line opacity=\"0.1\" stroke=\"#000000\" stroke-width=\"1\" x1=\"0\" y1=\"121\" x2=\"640\" y2=\"121\"/>\n",
       "<line opacity=\"0.1\" stroke=\"#000000\" stroke-width=\"1\" x1=\"0\" y1=\"116\" x2=\"640\" y2=\"116\"/>\n",
       "<line opacity=\"0.1\" stroke=\"#000000\" stroke-width=\"1\" x1=\"0\" y1=\"111\" x2=\"640\" y2=\"111\"/>\n",
       "<line opacity=\"0.1\" stroke=\"#000000\" stroke-width=\"1\" x1=\"0\" y1=\"105\" x2=\"640\" y2=\"105\"/>\n",
       "<line opacity=\"0.1\" stroke=\"#000000\" stroke-width=\"1\" x1=\"0\" y1=\"100\" x2=\"640\" y2=\"100\"/>\n",
       "<line opacity=\"0.1\" stroke=\"#000000\" stroke-width=\"1\" x1=\"0\" y1=\"95\" x2=\"640\" y2=\"95\"/>\n",
       "<line opacity=\"0.1\" stroke=\"#000000\" stroke-width=\"1\" x1=\"0\" y1=\"89\" x2=\"640\" y2=\"89\"/>\n",
       "<line opacity=\"0.1\" stroke=\"#000000\" stroke-width=\"1\" x1=\"0\" y1=\"84\" x2=\"640\" y2=\"84\"/>\n",
       "<line opacity=\"0.1\" stroke=\"#000000\" stroke-width=\"1\" x1=\"0\" y1=\"79\" x2=\"640\" y2=\"79\"/>\n",
       "<line opacity=\"0.1\" stroke=\"#000000\" stroke-width=\"1\" x1=\"0\" y1=\"73\" x2=\"640\" y2=\"73\"/>\n",
       "<line opacity=\"0.1\" stroke=\"#000000\" stroke-width=\"1\" x1=\"0\" y1=\"68\" x2=\"640\" y2=\"68\"/>\n",
       "<line opacity=\"0.1\" stroke=\"#000000\" stroke-width=\"1\" x1=\"0\" y1=\"63\" x2=\"640\" y2=\"63\"/>\n",
       "<line opacity=\"0.1\" stroke=\"#000000\" stroke-width=\"1\" x1=\"0\" y1=\"57\" x2=\"640\" y2=\"57\"/>\n",
       "<line opacity=\"0.1\" stroke=\"#000000\" stroke-width=\"1\" x1=\"0\" y1=\"52\" x2=\"640\" y2=\"52\"/>\n",
       "<line opacity=\"0.1\" stroke=\"#000000\" stroke-width=\"1\" x1=\"0\" y1=\"47\" x2=\"640\" y2=\"47\"/>\n",
       "<line opacity=\"0.1\" stroke=\"#000000\" stroke-width=\"1\" x1=\"0\" y1=\"41\" x2=\"640\" y2=\"41\"/>\n",
       "<line opacity=\"0.1\" stroke=\"#000000\" stroke-width=\"1\" x1=\"0\" y1=\"36\" x2=\"640\" y2=\"36\"/>\n",
       "<line opacity=\"0.1\" stroke=\"#000000\" stroke-width=\"1\" x1=\"0\" y1=\"31\" x2=\"640\" y2=\"31\"/>\n",
       "<line opacity=\"0.1\" stroke=\"#000000\" stroke-width=\"1\" x1=\"0\" y1=\"25\" x2=\"640\" y2=\"25\"/>\n",
       "<line opacity=\"0.1\" stroke=\"#000000\" stroke-width=\"1\" x1=\"0\" y1=\"20\" x2=\"640\" y2=\"20\"/>\n",
       "<line opacity=\"0.1\" stroke=\"#000000\" stroke-width=\"1\" x1=\"0\" y1=\"15\" x2=\"640\" y2=\"15\"/>\n",
       "<line opacity=\"0.1\" stroke=\"#000000\" stroke-width=\"1\" x1=\"0\" y1=\"9\" x2=\"640\" y2=\"9\"/>\n",
       "<line opacity=\"0.1\" stroke=\"#000000\" stroke-width=\"1\" x1=\"0\" y1=\"4\" x2=\"640\" y2=\"4\"/>\n",
       "<line opacity=\"0.1\" stroke=\"#000000\" stroke-width=\"1\" x1=\"0\" y1=\"-1\" x2=\"640\" y2=\"-1\"/>\n",
       "<line opacity=\"0.2\" stroke=\"#000000\" stroke-width=\"1\" x1=\"0\" y1=\"479\" x2=\"0\" y2=\"-1\"/>\n",
       "<line opacity=\"0.2\" stroke=\"#000000\" stroke-width=\"1\" x1=\"213\" y1=\"479\" x2=\"213\" y2=\"-1\"/>\n",
       "<line opacity=\"0.2\" stroke=\"#000000\" stroke-width=\"1\" x1=\"426\" y1=\"479\" x2=\"426\" y2=\"-1\"/>\n",
       "<line opacity=\"0.2\" stroke=\"#000000\" stroke-width=\"1\" x1=\"640\" y1=\"479\" x2=\"640\" y2=\"-1\"/>\n",
       "<line opacity=\"0.2\" stroke=\"#000000\" stroke-width=\"1\" x1=\"0\" y1=\"479\" x2=\"640\" y2=\"479\"/>\n",
       "<line opacity=\"0.2\" stroke=\"#000000\" stroke-width=\"1\" x1=\"0\" y1=\"425\" x2=\"640\" y2=\"425\"/>\n",
       "<line opacity=\"0.2\" stroke=\"#000000\" stroke-width=\"1\" x1=\"0\" y1=\"372\" x2=\"640\" y2=\"372\"/>\n",
       "<line opacity=\"0.2\" stroke=\"#000000\" stroke-width=\"1\" x1=\"0\" y1=\"319\" x2=\"640\" y2=\"319\"/>\n",
       "<line opacity=\"0.2\" stroke=\"#000000\" stroke-width=\"1\" x1=\"0\" y1=\"265\" x2=\"640\" y2=\"265\"/>\n",
       "<line opacity=\"0.2\" stroke=\"#000000\" stroke-width=\"1\" x1=\"0\" y1=\"212\" x2=\"640\" y2=\"212\"/>\n",
       "<line opacity=\"0.2\" stroke=\"#000000\" stroke-width=\"1\" x1=\"0\" y1=\"159\" x2=\"640\" y2=\"159\"/>\n",
       "<line opacity=\"0.2\" stroke=\"#000000\" stroke-width=\"1\" x1=\"0\" y1=\"105\" x2=\"640\" y2=\"105\"/>\n",
       "<line opacity=\"0.2\" stroke=\"#000000\" stroke-width=\"1\" x1=\"0\" y1=\"52\" x2=\"640\" y2=\"52\"/>\n",
       "<line opacity=\"0.2\" stroke=\"#000000\" stroke-width=\"1\" x1=\"0\" y1=\"-1\" x2=\"640\" y2=\"-1\"/>\n",
       "<polyline fill=\"none\" opacity=\"1\" stroke=\"#00FF00\" stroke-width=\"1\" points=\"0,479 213,463 426,372 640,0 \"/>\n",
       "</svg>\n",
       "</div>"
      ]
     },
     "execution_count": 43,
     "metadata": {},
     "output_type": "execute_result"
    }
   ],
   "source": [
    "plot(vec![(0,0),(1,3),(2,20),(3,90)])"
   ]
  },
  {
   "cell_type": "code",
   "execution_count": null,
   "metadata": {},
   "outputs": [],
   "source": [
    "// TODO - perform some relationship traversal and measure distance"
   ]
  }
 ],
 "metadata": {
  "kernelspec": {
   "display_name": "Rust",
   "language": "rust",
   "name": "rust"
  },
  "language_info": {
   "codemirror_mode": "rust",
   "file_extension": ".rs",
   "mimetype": "text/rust",
   "name": "Rust",
   "pygment_lexer": "rust",
   "version": ""
  }
 },
 "nbformat": 4,
 "nbformat_minor": 4
}
