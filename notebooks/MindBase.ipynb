{
 "cells": [
  {
   "cell_type": "code",
   "execution_count": 26,
   "metadata": {},
   "outputs": [],
   "source": [
    ":dep mindbase = { path = \"../\" }\n",
    "\n",
    "use mindbase::prelude::*;\n",
    "\n",
    "let mb = MindBase::open_temp()?;"
   ]
  },
  {
   "cell_type": "code",
   "execution_count": 27,
   "metadata": {},
   "outputs": [
    {
     "name": "stdout",
     "output_type": "stream",
     "text": [
      "This MindBase DB Contains 0 atoms\n"
     ]
    }
   ],
   "source": [
    "println!(\"This MindBase DB Contains {} atoms\",mb.atom_count());"
   ]
  },
  {
   "cell_type": "code",
   "execution_count": 28,
   "metadata": {},
   "outputs": [
    {
     "name": "stdout",
     "output_type": "stream",
     "text": [
      "DIAG: $x = [↑AXG+pr52G+ItmPV7NbjXOQ]\n"
     ]
    },
    {
     "data": {
      "text/plain": [
       "()"
      ]
     },
     "execution_count": 28,
     "metadata": {},
     "output_type": "execute_result"
    }
   ],
   "source": [
    "// Queries borrow mb, so they can't live across Cells\n",
    "{\n",
    "    let query = mb.query_str(r#\"\n",
    "        $x = Ground((\"Ragdoll\" : \"Leopard\") : (\"Shepherd\" : \"Wolf\"))\n",
    "        Diag($x)\n",
    "    \"#)?;\n",
    "\n",
    "    query.apply()?;\n",
    "\n",
    "    let x = query.get_symbol_var(\"x\")?.expect(\"x\");\n",
    "}"
   ]
  },
  {
   "cell_type": "code",
   "execution_count": 29,
   "metadata": {},
   "outputs": [
    {
     "name": "stdout",
     "output_type": "stream",
     "text": [
      "This MindBase DB Contains 7 atoms\n"
     ]
    }
   ],
   "source": [
    "println!(\"This MindBase DB Contains {} atoms\",mb.atom_count());"
   ]
  },
  {
   "cell_type": "code",
   "execution_count": null,
   "metadata": {},
   "outputs": [],
   "source": []
  }
 ],
 "metadata": {
  "kernelspec": {
   "display_name": "Rust",
   "language": "rust",
   "name": "rust"
  },
  "language_info": {
   "codemirror_mode": "rust",
   "file_extension": ".rs",
   "mimetype": "text/rust",
   "name": "Rust",
   "pygment_lexer": "rust",
   "version": ""
  }
 },
 "nbformat": 4,
 "nbformat_minor": 4
}
