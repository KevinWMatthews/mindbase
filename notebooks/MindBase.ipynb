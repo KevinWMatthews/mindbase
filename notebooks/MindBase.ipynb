{
 "cells": [
  {
   "cell_type": "markdown",
   "metadata": {},
   "source": [
    "Set up a new MindBase instance"
   ]
  },
  {
   "cell_type": "code",
   "execution_count": 30,
   "metadata": {},
   "outputs": [],
   "source": [
    ":dep mindbase = { path = \"../\" }\n",
    "\n",
    "use mindbase::prelude::*;\n",
    "let mb = MindBase::open_temp()?;"
   ]
  },
  {
   "cell_type": "code",
   "execution_count": 31,
   "metadata": {},
   "outputs": [
    {
     "name": "stdout",
     "output_type": "stream",
     "text": [
      "This MindBase DB Contains 0 atoms\n"
     ]
    }
   ],
   "source": [
    "println!(\"This MindBase DB Contains {} atoms\",mb.atom_count());"
   ]
  },
  {
   "cell_type": "code",
   "execution_count": 32,
   "metadata": {},
   "outputs": [
    {
     "name": "stdout",
     "output_type": "stream",
     "text": [
      "DIAG: $x = [↑AXG+zp5b5nNzVAmlKV6VgQ]\n"
     ]
    },
    {
     "data": {
      "text/plain": [
       "()"
      ]
     },
     "execution_count": 32,
     "metadata": {},
     "output_type": "execute_result"
    }
   ],
   "source": [
    "// Queries borrow mb, so they can't live across Cells\n",
    "{\n",
    "    let query = mb.query_str(r#\"\n",
    "        $x = Ground((\"Ragdoll\" : \"Leopard\") : (\"Shepherd\" : \"Wolf\"))\n",
    "        Diag($x)\n",
    "    \"#)?;\n",
    "\n",
    "    query.apply()?;\n",
    "\n",
    "    let x = query.get_symbol_var(\"x\")?.expect(\"x\");\n",
    "}"
   ]
  },
  {
   "cell_type": "code",
   "execution_count": 33,
   "metadata": {},
   "outputs": [
    {
     "name": "stdout",
     "output_type": "stream",
     "text": [
      "This MindBase DB Contains 7 atoms\n"
     ]
    }
   ],
   "source": [
    "println!(\"This MindBase DB Contains {} atoms\",mb.atom_count());"
   ]
  },
  {
   "cell_type": "code",
   "execution_count": null,
   "metadata": {},
   "outputs": [],
   "source": []
  }
 ],
 "metadata": {
  "kernelspec": {
   "display_name": "Rust",
   "language": "rust",
   "name": "rust"
  },
  "language_info": {
   "codemirror_mode": "rust",
   "file_extension": ".rs",
   "mimetype": "text/rust",
   "name": "Rust",
   "pygment_lexer": "rust",
   "version": ""
  }
 },
 "nbformat": 4,
 "nbformat_minor": 4
}
